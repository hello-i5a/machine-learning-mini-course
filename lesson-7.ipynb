{
 "cells": [
  {
   "cell_type": "markdown",
   "id": "d1173801-5a21-40fb-bd28-aef64aaa3aff",
   "metadata": {},
   "source": [
    "# Lesson 7: Algorithm Evaluation With Resampling Methods\n",
    "* **Training dataset:** dataset used to train a machine learning algorithm.\n",
    "* The dataset used to train an algorithm cannot be used to give you reliable estimates of the accuracy of the model on new data. \r\n",
    "* You can use statistical methods called **resampling methods** to split your training dataset up into subsets, some are used to train the model and others are held back and used to estimate the accuracy of the model on unseen data\n",
    "\n",
    "***\n",
    "\n",
    "**Cross-validation** is applied to further assess the performance of the model in situations where the data is limited or to estimate how well the model will generalize to new data from the same population.\n",
    "\n",
    "Common techniques:\n",
    "* **k-fold Cross-Validation:** popular choice for model evaluation due to its balance between bias and variance, computational efficiency, and ease of implementation. \n",
    "* **Leave-One-Out Cross-Validation (LOOCV):** for obtaining a less biased estimate of performance but is computationally expensive, especially for large datasets.\n",
    "\n",
    "***\n",
    "Cross-validation techniques are typically performed after model training to assess the performance of the trained model. \n",
    "\n",
    "Here's a typical workflow:\n",
    "* **Data Preprocessing:** This may involve steps like handling missing values, feature scaling, feature engineering, and encoding categorical variables.\r\n",
    "* **Model Training:** The model is trained on the training dataset using a chosen algorithm or combination of algorithms. During training, the model learns patterns and relationships in the data.\r\n",
    "* **Model Evaluation with Cross-Validation:** After training, the model's performance is evaluated using cross-validation techniques. The dataset is divided into training and testing subsets multiple times, and the model is trained and evaluated on different combinations of data.\r\n",
    "* **Performance Assessment:** Performance metrics are calculated for each fold or iteration of the cross-validation process. These metrics are typically averaged across all folds to obtain a single estimate of the model's performance.\r\n",
    "* **Model Selection and Tuning:** Based on the performance metrics obtained from cross-validation, different models or variations of the same model may be compared. Hyperparameters of the model may be tuned to improve performance further.\r\n",
    "* **Final Evaluation on Test Data:** Once the best model is selected and tuned, it is evaluated one final time on a separate test dataset that was not used during training or cross-valida\n",
    "\n",
    "***\n",
    "Validation is not always performed, but it's a recommended practice in machine learning model development. \n",
    "\n",
    "However, the specific approach to validation, whether through cross-validation or a separate validation set, depends on various factors such as the size of the dataset, computational resources available, and the specific problem being addressed.\n",
    "\n",
    "In cases where the dataset is small, splitting it into separate training and validation sets may not be feasible. In such cases, cross-validation techniques like k-fold cross-validation or leave-one-out cross-validation are often preferred because they make more efficient use of the limited data.tion.\n",
    "\r\n",
    "\r\n",
    " "
   ]
  },
  {
   "cell_type": "code",
   "execution_count": 1,
   "id": "f1017858-e0b7-4bd0-8eb4-dad1229a41ca",
   "metadata": {},
   "outputs": [],
   "source": [
    "# Evaluate using k-fold cross-validation,\n",
    "import pandas\n",
    "from sklearn.model_selection import KFold\n",
    "from sklearn.model_selection import cross_val_score\n",
    "from sklearn.linear_model import LogisticRegression"
   ]
  },
  {
   "cell_type": "code",
   "execution_count": 2,
   "id": "d949894d-6629-4426-b3f2-34071b841562",
   "metadata": {},
   "outputs": [],
   "source": [
    "url = \"https://raw.githubusercontent.com/jbrownlee/Datasets/master/pima-indians-diabetes.data.csv\"\n",
    "colnames = ['preg', 'plas', 'pres', 'skin', 'test', 'mass', 'pedi', 'age', 'class']\n",
    "\n",
    "# Create a DataFrame\n",
    "df = pandas.read_csv(url, names = colnames) "
   ]
  },
  {
   "cell_type": "code",
   "execution_count": 3,
   "id": "d4b1bc78-84e2-4094-bf5c-1d371cf5b698",
   "metadata": {},
   "outputs": [],
   "source": [
    "# Extracts the data from the DataFrame and stores it in a NumPy array.\n",
    "array = df.values"
   ]
  },
  {
   "cell_type": "code",
   "execution_count": 4,
   "id": "a96f07ae-3639-4a17-865f-205ef33a2a71",
   "metadata": {},
   "outputs": [],
   "source": [
    "# Separate array into features and target variables\n",
    "X = array[:,0:8] # Select all rows and columns 0 to 7\n",
    "Y = array[:,8] # Select all rows and column 8"
   ]
  },
  {
   "cell_type": "code",
   "execution_count": 5,
   "id": "5c9df271-e81c-4156-abdf-7f7173a6657f",
   "metadata": {},
   "outputs": [],
   "source": [
    "# Initialize logistic regression model\n",
    "model = LogisticRegression(solver='liblinear')"
   ]
  },
  {
   "cell_type": "code",
   "execution_count": 6,
   "id": "ed26f899-06ff-49f5-a513-0f6590c171cf",
   "metadata": {},
   "outputs": [],
   "source": [
    "# Define cross-validation split\n",
    "kfold = KFold(n_splits=10) # Create 10 folds for cross-validation"
   ]
  },
  {
   "cell_type": "code",
   "execution_count": 7,
   "id": "a81bbff9-dffd-4f14-aee4-60d332230fe1",
   "metadata": {},
   "outputs": [],
   "source": [
    "# Peform cross validation\n",
    "results = cross_val_score(model, X, Y, cv=kfold)"
   ]
  },
  {
   "cell_type": "code",
   "execution_count": 14,
   "id": "b27891e9-7773-444b-a347-d30968d47371",
   "metadata": {},
   "outputs": [
    {
     "name": "stdout",
     "output_type": "stream",
     "text": [
      "Mean:  76.95146958304852\n",
      "Standard deviation:  4.841051924567195\n"
     ]
    }
   ],
   "source": [
    "# Calculate the mean and standard deviation of the accuracy scores obtained from cross-validation\n",
    "print(\"Mean: \", results.mean()*100.0)\n",
    "print(\"Standard deviation: \", results.std()*100.0)"
   ]
  },
  {
   "cell_type": "markdown",
   "id": "11b47c2d-b8a3-4979-984b-0e066ac9fddf",
   "metadata": {},
   "source": [
    "How k-fold cross-validation works in this context:\n",
    "* **Data Splitting:** The dataset is divided into k (in this case, 10) equal-sized folds. Each fold is used as a validation set once, while the remaining k-1 folds form the training set.\n",
    "\n",
    "* **Model Training and Evaluation:** The logistic regression model is trained k times, each time using a different combination of training and validation sets. For each fold, the model is trained on the training set and evaluated on the corresponding validation set.\n",
    "\n",
    "* **Performance Estimation:** The performance metric (accuracy in this case) is computed for each fold. The final estimate of the model's performance is obtained by averaging the performance metrics across all k folds."
   ]
  },
  {
   "cell_type": "code",
   "execution_count": null,
   "id": "c42be87a-fc62-4e78-bee1-079c5331146e",
   "metadata": {},
   "outputs": [],
   "source": []
  }
 ],
 "metadata": {
  "kernelspec": {
   "display_name": "Python 3 (ipykernel)",
   "language": "python",
   "name": "python3"
  },
  "language_info": {
   "codemirror_mode": {
    "name": "ipython",
    "version": 3
   },
   "file_extension": ".py",
   "mimetype": "text/x-python",
   "name": "python",
   "nbconvert_exporter": "python",
   "pygments_lexer": "ipython3",
   "version": "3.11.8"
  }
 },
 "nbformat": 4,
 "nbformat_minor": 5
}
