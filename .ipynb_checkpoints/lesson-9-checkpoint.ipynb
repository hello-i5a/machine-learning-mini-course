{
 "cells": [
  {
   "cell_type": "markdown",
   "id": "99513352-5abd-4194-9ccd-3f6954c72960",
   "metadata": {},
   "source": [
    "# Lesson 9: Spot-Check Machine Learning Algorithms\n",
    "You cannot possibly know which algorithm will perform best on your data beforehand. You have to discover it using a process of trial and error a.k.a. spot-checking algorithms. The scikit-learn library provides an interface to many machine learning algorithms and tools to compare the estimated accuracy of algorithms."
   ]
  },
  {
   "cell_type": "markdown",
   "id": "28d74819-2259-4366-a6e9-855d6fd87ade",
   "metadata": {},
   "source": [
    "# Spot-check linear algorithms on a dataset\n",
    "Linear algorithms refer to the time complexity of algorithms in computer science. They describe how the running time of an algorithm scales with the size of the input data. Linear algorithms have a time complexity that grows linearly with the size of the input."
   ]
  },
  {
   "cell_type": "markdown",
   "id": "7c217247-95e3-49b2-acff-a87819681b50",
   "metadata": {},
   "source": [
    "### Classification: Logistic Regression"
   ]
  },
  {
   "cell_type": "code",
   "execution_count": 20,
   "id": "31815243-aea5-4847-8dac-cced31668465",
   "metadata": {},
   "outputs": [],
   "source": [
    "from sklearn.datasets import load_breast_cancer # Classification dataset\n",
    "from sklearn.model_selection import train_test_split\n",
    "from sklearn.linear_model import LogisticRegression # Classification algorithm\n",
    "from sklearn.discriminant_analysis import LinearDiscriminantAnalysis # Multi-class classification "
   ]
  },
  {
   "cell_type": "code",
   "execution_count": 27,
   "id": "45be9075-dba0-4d74-9a34-2675176b6db3",
   "metadata": {},
   "outputs": [
    {
     "name": "stdout",
     "output_type": "stream",
     "text": [
      "Logistic Regression: 0.956140350877193\n",
      "Linear Discriminant Analysis: 0.956140350877193\n"
     ]
    },
    {
     "name": "stderr",
     "output_type": "stream",
     "text": [
      "C:\\Users\\isabe\\anaconda3\\Lib\\site-packages\\sklearn\\linear_model\\_logistic.py:458: ConvergenceWarning: lbfgs failed to converge (status=1):\n",
      "STOP: TOTAL NO. of ITERATIONS REACHED LIMIT.\n",
      "\n",
      "Increase the number of iterations (max_iter) or scale the data as shown in:\n",
      "    https://scikit-learn.org/stable/modules/preprocessing.html\n",
      "Please also refer to the documentation for alternative solver options:\n",
      "    https://scikit-learn.org/stable/modules/linear_model.html#logistic-regression\n",
      "  n_iter_i = _check_optimize_result(\n"
     ]
    }
   ],
   "source": [
    "# Load dataset\n",
    "X, y = load_breast_cancer(return_X_y=True)\n",
    "\n",
    "# Split the dataset into training and testing sets\n",
    "X_train, X_test, y_train, y_test = train_test_split(X, y, test_size=0.2, random_state=42)\n",
    "\n",
    "# Create model\n",
    "logreg = LogisticRegression()\n",
    "lineardis = LinearDiscriminantAnalysis()\n",
    "\n",
    "# Fit the model to the training data\n",
    "logreg.fit(X_train, y_train)\n",
    "lineardis.fit(X_train, y_train)\n",
    "\n",
    "# Evaluate the model on the testing data\n",
    "print(\"Logistic Regression:\", logreg.score(X_test, y_test))\n",
    "print(\"Linear Discriminant Analysis:\", lineardis.score(X_test, y_test))"
   ]
  },
  {
   "cell_type": "markdown",
   "id": "3ddf5c65-2f9e-460d-83f5-d1fd0dd66b23",
   "metadata": {},
   "source": [
    "### Regression: Linear Regression"
   ]
  },
  {
   "cell_type": "code",
   "execution_count": 28,
   "id": "16c8bb8d-247d-4ff8-ab22-eac3a71d0c89",
   "metadata": {},
   "outputs": [
    {
     "name": "stdout",
     "output_type": "stream",
     "text": [
      "Linear Regression: 0.4526027629719195\n"
     ]
    }
   ],
   "source": [
    "from sklearn.datasets import load_diabetes # Regression dataset\n",
    "from sklearn.model_selection import train_test_split\n",
    "from sklearn.linear_model import LinearRegression # Regression algorithm\n",
    "\n",
    "# Load dataset\n",
    "X, y = load_diabetes(return_X_y=True)\n",
    "\n",
    "# Split the dataset into training and testing sets\n",
    "X_train, X_test, y_train, y_test = train_test_split(X, y, test_size=0.2, random_state=42)\n",
    "\n",
    "# Create model\n",
    "linearreg = LinearRegression()\n",
    "\n",
    "# Fit the model to the training data\n",
    "linearreg.fit(X_train, y_train)\n",
    "\n",
    "# Evaluate the model on the testing data\n",
    "print(\"Linear Regression:\", linearreg.score(X_test, y_test))"
   ]
  },
  {
   "cell_type": "code",
   "execution_count": null,
   "id": "9da3464c-e1a9-4b7c-8d2d-2fa8e5fba443",
   "metadata": {},
   "outputs": [],
   "source": []
  }
 ],
 "metadata": {
  "kernelspec": {
   "display_name": "Python 3 (ipykernel)",
   "language": "python",
   "name": "python3"
  },
  "language_info": {
   "codemirror_mode": {
    "name": "ipython",
    "version": 3
   },
   "file_extension": ".py",
   "mimetype": "text/x-python",
   "name": "python",
   "nbconvert_exporter": "python",
   "pygments_lexer": "ipython3",
   "version": "3.11.8"
  }
 },
 "nbformat": 4,
 "nbformat_minor": 5
}
