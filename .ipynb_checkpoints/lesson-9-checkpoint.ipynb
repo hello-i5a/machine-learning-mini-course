{
 "cells": [
  {
   "cell_type": "markdown",
   "id": "99513352-5abd-4194-9ccd-3f6954c72960",
   "metadata": {},
   "source": [
    "# Lesson 9: Spot-Check Machine Learning Algorithms\n",
    "You cannot possibly know which algorithm will perform best on your data beforehand. You have to discover it using a process of trial and error a.k.a. spot-checking algorithms. The scikit-learn library provides an interface to many machine learning algorithms and tools to compare the estimated accuracy of algorithms."
   ]
  },
  {
   "cell_type": "markdown",
   "id": "28d74819-2259-4366-a6e9-855d6fd87ade",
   "metadata": {},
   "source": [
    "# Spot-check linear algorithms on a dataset\n",
    "A a linear algorithm refers to algorithms that assume a linear relationship between the input features and the target variable. In simpler terms, a linear algorithm assumes that a change in any of the input features will result in a proportional change in the target variable."
   ]
  },
  {
   "cell_type": "markdown",
   "id": "7c217247-95e3-49b2-acff-a87819681b50",
   "metadata": {},
   "source": [
    "### Classification: Logistic Regression"
   ]
  },
  {
   "cell_type": "code",
   "execution_count": 29,
   "id": "31815243-aea5-4847-8dac-cced31668465",
   "metadata": {},
   "outputs": [],
   "source": [
    "from sklearn.datasets import load_breast_cancer # Classification dataset\n",
    "from sklearn.model_selection import train_test_split\n",
    "from sklearn.linear_model import LogisticRegression # Classification algorithm\n",
    "from sklearn.discriminant_analysis import LinearDiscriminantAnalysis # Multi-class classification "
   ]
  },
  {
   "cell_type": "code",
   "execution_count": 30,
   "id": "45be9075-dba0-4d74-9a34-2675176b6db3",
   "metadata": {},
   "outputs": [
    {
     "name": "stdout",
     "output_type": "stream",
     "text": [
      "Logistic Regression: 0.956140350877193\n",
      "Linear Discriminant Analysis: 0.956140350877193\n"
     ]
    },
    {
     "name": "stderr",
     "output_type": "stream",
     "text": [
      "C:\\Users\\isabe\\anaconda3\\Lib\\site-packages\\sklearn\\linear_model\\_logistic.py:458: ConvergenceWarning: lbfgs failed to converge (status=1):\n",
      "STOP: TOTAL NO. of ITERATIONS REACHED LIMIT.\n",
      "\n",
      "Increase the number of iterations (max_iter) or scale the data as shown in:\n",
      "    https://scikit-learn.org/stable/modules/preprocessing.html\n",
      "Please also refer to the documentation for alternative solver options:\n",
      "    https://scikit-learn.org/stable/modules/linear_model.html#logistic-regression\n",
      "  n_iter_i = _check_optimize_result(\n"
     ]
    }
   ],
   "source": [
    "# Load dataset\n",
    "X, y = load_breast_cancer(return_X_y=True)\n",
    "\n",
    "# Split the dataset into training and testing sets\n",
    "X_train, X_test, y_train, y_test = train_test_split(X, y, test_size=0.2, random_state=42)\n",
    "\n",
    "# Create model\n",
    "logreg = LogisticRegression()\n",
    "lineardis = LinearDiscriminantAnalysis()\n",
    "\n",
    "# Fit the model to the training data\n",
    "logreg.fit(X_train, y_train)\n",
    "lineardis.fit(X_train, y_train)\n",
    "\n",
    "# Evaluate the model on the testing data\n",
    "print(\"Logistic Regression:\", logreg.score(X_test, y_test))\n",
    "print(\"Linear Discriminant Analysis:\", lineardis.score(X_test, y_test))"
   ]
  },
  {
   "cell_type": "markdown",
   "id": "3ddf5c65-2f9e-460d-83f5-d1fd0dd66b23",
   "metadata": {},
   "source": [
    "### Regression: Linear Regression"
   ]
  },
  {
   "cell_type": "code",
   "execution_count": 31,
   "id": "16c8bb8d-247d-4ff8-ab22-eac3a71d0c89",
   "metadata": {},
   "outputs": [
    {
     "name": "stdout",
     "output_type": "stream",
     "text": [
      "Linear Regression: 0.4526027629719195\n"
     ]
    }
   ],
   "source": [
    "from sklearn.datasets import load_diabetes # Regression dataset\n",
    "from sklearn.model_selection import train_test_split\n",
    "from sklearn.linear_model import LinearRegression # Regression algorithm\n",
    "\n",
    "# Load dataset\n",
    "X, y = load_diabetes(return_X_y=True)\n",
    "\n",
    "# Split the dataset into training and testing sets\n",
    "X_train, X_test, y_train, y_test = train_test_split(X, y, test_size=0.2, random_state=42)\n",
    "\n",
    "# Create model\n",
    "linearreg = LinearRegression()\n",
    "\n",
    "# Fit the model to the training data\n",
    "linearreg.fit(X_train, y_train)\n",
    "\n",
    "# Evaluate the model on the testing data\n",
    "print(\"Linear Regression:\", linearreg.score(X_test, y_test))"
   ]
  },
  {
   "cell_type": "markdown",
   "id": "ba055039-8ec7-4f91-abfc-15b03806e57e",
   "metadata": {},
   "source": [
    "# Spot-check non-linear algorithms on a dataset\n",
    "Non-linear regression algorithms are machine learning techniques used to model and predict non-linear relationships between input variables and target variables. These algorithms aim to capture complex patterns and interactions that cannot be effectively represented by a linear model."
   ]
  },
  {
   "cell_type": "raw",
   "id": "61a90f48-8e59-40cf-a661-99a175c818d8",
   "metadata": {},
   "source": [
    "from sklearn.model_selection import train_test_split\n",
    "from sklearn.preprocessing import StandardScaler\n",
    "from sklearn.neighbors import KNeighborsClassifier\n",
    "from sklearn.svm import SVC\n",
    "from sklearn.tree import DecisionTreeClassifier\n",
    "from sklearn.metrics import accuracy_score\n",
    "\n",
    "# Load dataset \n",
    "\n",
    "# Split dataset into training and testing sets\n",
    "X_train, X_test, y_train, y_test = train_test_split(X, y, test_size=0.2, random_state=42)\n",
    "\n",
    "# Preprocess data: Feature scaling\n",
    "scaler = StandardScaler()\n",
    "X_train_scaled = scaler.fit_transform(X_train)\n",
    "X_test_scaled = scaler.transform(X_test)\n",
    "\n",
    "# Spot-check K-Nearest Neighbors (KNN)\n",
    "knn = KNeighborsClassifier(n_neighbors=5)\n",
    "knn.fit(X_train_scaled, y_train)\n",
    "knn_predictions = knn.predict(X_test_scaled)\n",
    "knn_accuracy = accuracy_score(y_test, knn_predictions)\n",
    "print(\"KNN Accuracy:\", knn_accuracy)\n",
    "\n",
    "# Spot-check Support Vector Machine (SVM) with RBF kernel\n",
    "svm = SVC(kernel='rbf', C=1.0)\n",
    "svm.fit(X_train_scaled, y_train)\n",
    "svm_predictions = svm.predict(X_test_scaled)\n",
    "svm_accuracy = accuracy_score(y_test, svm_predictions)\n",
    "print(\"SVM Accuracy:\", svm_accuracy)\n",
    "\n",
    "# Spot-check Classification and Regression Trees (CART)\n",
    "cart = DecisionTreeClassifier(max_depth=None, min_samples_split=2, random_state=42)\n",
    "cart.fit(X_train_scaled, y_train)\n",
    "cart_predictions = cart.predict(X_test_scaled)\n",
    "cart_accuracy = accuracy_score(y_test, cart_predictions)\n",
    "print(\"CART Accuracy:\", cart_accuracy)"
   ]
  },
  {
   "cell_type": "markdown",
   "id": "9f7765ed-d4df-484a-92c9-6fd1e8171901",
   "metadata": {},
   "source": [
    "# Spot-check sophisticated ensemble algorithms on a dataset\n",
    "An ensemble algorithm in machine learning is a technique that combines the predictions of multiple individual models (base learners) to improve the overall performance. The basic idea behind ensemble methods is to leverage the diversity of the individual models to create a stronger, more robust model that generalizes better to unseen data."
   ]
  },
  {
   "cell_type": "raw",
   "id": "23e3f8af-2bcf-457b-aae4-532e18cbaa54",
   "metadata": {},
   "source": [
    "\n",
    "from sklearn.model_selection import train_test_split\r\n",
    "from sklearn.ensemble import RandomForestClassifier, GradientBoostingClassifier\r\n",
    "from sklearn.metrics import accuracy_score\r\n",
    "\r\n",
    "# Iris da.target\r\n",
    "\r\n",
    "# Split the data into training and testing sets\r\n",
    "X_train, X_test, y_train, y_test = train_test_split(X, y, test_size=0.2, random_state=42)\r\n",
    "\r\n",
    "# Initialize and train Random Forest Classifier\r\n",
    "random_forest = RandomForestClassifier(n_estimators=100, random_state=42)\r\n",
    "random_forest.fit(X_train, y_train)\r\n",
    "\r\n",
    "# Predict on the test set using Random Forest\r\n",
    "rf_predictions = random_forest.predict(X_test)\r\n",
    "\r\n",
    "# Calculate accuracy of Random Forest\r\n",
    "rf_accuracy = accuracy_score(y_test, rf_predictions)\r\n",
    "print(\"Random Forest Accuracy:\", rf_accuracy)\r\n",
    "\r\n",
    "# Initialize and train Gradient Boosting Classifier\r\n",
    "gradient_boosting = GradientBoostingClassifier(n_estimators=100, random_state=42)\r\n",
    "gradient_boosting.fit(X_train, y_train)\r\n",
    "\r\n",
    "# Predict on the test set using Gradient Boosting\r\n",
    "gb_predictions = gradient_boosting.predict(X_test)\r\n",
    "\r\n",
    "# Calculate accuracy of Gradient Boosting\r\n",
    "gb_accuracy = accuracy_score(y_test, gb_predictions)\r\n",
    "print(\"Gradient Boosting Accuracy:\", gb_accuracy)\r\n"
   ]
  },
  {
   "cell_type": "code",
   "execution_count": null,
   "id": "bcac4ee8-f1a3-45da-917b-bd983e79d66f",
   "metadata": {},
   "outputs": [],
   "source": []
  }
 ],
 "metadata": {
  "kernelspec": {
   "display_name": "Python 3 (ipykernel)",
   "language": "python",
   "name": "python3"
  },
  "language_info": {
   "codemirror_mode": {
    "name": "ipython",
    "version": 3
   },
   "file_extension": ".py",
   "mimetype": "text/x-python",
   "name": "python",
   "nbconvert_exporter": "python",
   "pygments_lexer": "ipython3",
   "version": "3.11.8"
  }
 },
 "nbformat": 4,
 "nbformat_minor": 5
}
