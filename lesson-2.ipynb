{
 "cells": [
  {
   "cell_type": "markdown",
   "id": "b4fb2585-2928-4395-87d5-6807e307f8f4",
   "metadata": {},
   "source": [
    "# Lesson 2: Get Around In Python, NumPy, Matplotlib and Pandas\n",
    "* Practice assignment, working with lists and flow control in Python.\n",
    "* Practice working with NumPy arrays.\n",
    "* Practice creating simple plots in Matplotlib.\n",
    "* Practice working with Pandas Series and DataFrames."
   ]
  },
  {
   "cell_type": "markdown",
   "id": "d9a5ee2e-5806-428f-9de7-c1c10caba588",
   "metadata": {},
   "source": [
    "## Lists\n",
    "\n",
    "* Python list is similar to an array in which a single variable can store multiple elements. \n",
    "* Difference is that elements can be of different data type and the size is dynamic.\n",
    "* By default, it is 1D. You can create multi-dimenstional but then will be 1D list storing another 1D list.\n",
    "* Elements are not contiguous in memory.\n",
    "\n",
    "Lists are written within square brackets."
   ]
  },
  {
   "cell_type": "code",
   "execution_count": 1,
   "id": "11e5be80-2037-4aa3-9d47-61dcb3f4996b",
   "metadata": {},
   "outputs": [
    {
     "name": "stdout",
     "output_type": "stream",
     "text": [
      "['Seiko', 'Cartier', 'Rado', 'Longines', 'Rolex', 'Richard Mille']\n"
     ]
    }
   ],
   "source": [
    "watches = ['Seiko', 'Cartier', 'Rado', 'Longines', 'Rolex', 'Richard Mille']\n",
    "\n",
    "print(watches)"
   ]
  },
  {
   "cell_type": "code",
   "execution_count": 2,
   "id": "430ba556-faa8-460f-a1ac-cefda5e63c6f",
   "metadata": {
    "tags": []
   },
   "outputs": [
    {
     "name": "stdout",
     "output_type": "stream",
     "text": [
      "Seiko\n",
      "Rolex\n"
     ]
    }
   ],
   "source": [
    "# Access each element through indexing\n",
    "print(watches[0])\n",
    "\n",
    "print(watches[-2]) # Negative indexing"
   ]
  },
  {
   "cell_type": "code",
   "execution_count": 3,
   "id": "e628648b-85ed-4a7d-967e-5e776c6f6d6a",
   "metadata": {
    "tags": []
   },
   "outputs": [
    {
     "name": "stdout",
     "output_type": "stream",
     "text": [
      "['Seiko', 'Cartier', 'Rado', 'Longines', 'Rolex', 'Richard Mille']\n",
      "['Cartier', 'Rado', 'Longines']\n",
      "['Longines', 'Rolex', 'Richard Mille']\n"
     ]
    }
   ],
   "source": [
    "# Slicing a list means specifying where to start and begin in accessing\n",
    "print(watches[:]) # Access all elements\n",
    "\n",
    "print(watches[1:4]) # Access elements from index 1 until 3\n",
    "\n",
    "print(watches[3:]) # Access elements from index 3 until end"
   ]
  },
  {
   "cell_type": "code",
   "execution_count": 4,
   "id": "e7a76cde-5513-4128-8644-3d384c38ee2f",
   "metadata": {
    "tags": []
   },
   "outputs": [
    {
     "name": "stdout",
     "output_type": "stream",
     "text": [
      "['Seiko', 'Cartier', 'Rado', 'Longines', 'Rolex', 'Richard Mille', 'Omega']\n",
      "['TAG Heuer', 'Seiko', 'Cartier', 'Rado', 'Longines', 'Rolex', 'Richard Mille', 'Omega']\n"
     ]
    }
   ],
   "source": [
    "# Add elements into the list\n",
    "watches.append('Omega') # Append method lets you add at the end of the list\n",
    "\n",
    "print(watches)\n",
    "\n",
    "watches.insert(0, 'TAG Heuer') # Insert method lets you add at any index\n",
    "\n",
    "print(watches)"
   ]
  },
  {
   "cell_type": "code",
   "execution_count": 5,
   "id": "642e3e33-930b-4953-8cb0-a3312f82a353",
   "metadata": {
    "tags": []
   },
   "outputs": [
    {
     "name": "stdout",
     "output_type": "stream",
     "text": [
      "['TAG Heuer', 'Seiko', 'Cartier', 'Rado', 'Longines', 'Rolex', 'Richard Mille', 'Omega', 'Garmin', 'Fitbit', 'Suunto']\n"
     ]
    }
   ],
   "source": [
    "# Add all the elements of one list to another\n",
    "sport_watches = ['Garmin', 'Fitbit', 'Suunto']\n",
    "\n",
    "watches.extend(sport_watches) # Extend method lets you add all of the elemnts the `sport_watches` into `watches`\n",
    "\n",
    "print(watches)"
   ]
  },
  {
   "cell_type": "code",
   "execution_count": 6,
   "id": "78c6882f-a72d-406b-8e57-9d790101fa5e",
   "metadata": {
    "tags": []
   },
   "outputs": [
    {
     "name": "stdout",
     "output_type": "stream",
     "text": [
      "['TAG Heuer', 'Cartier', 'Rado', 'Longines', 'Rolex', 'Richard Mille', 'Omega', 'Garmin', 'Fitbit', 'Suunto']\n",
      "['TAG Heuer', 'Cartier', 'Rado', 'Longines', 'Richard Mille', 'Omega', 'Garmin', 'Fitbit', 'Suunto']\n"
     ]
    }
   ],
   "source": [
    "# Remove an element from the list\n",
    "watches.remove('Seiko') # Remove method lets you delete an element from the list\n",
    "\n",
    "print(watches)\n",
    "\n",
    "watches.remove(watches[4]) # Removing based on the index\n",
    "\n",
    "print(watches)"
   ]
  },
  {
   "cell_type": "code",
   "execution_count": 7,
   "id": "811f9331-e60e-4826-bf02-2ea097bf7c62",
   "metadata": {
    "tags": []
   },
   "outputs": [
    {
     "name": "stdout",
     "output_type": "stream",
     "text": [
      "Length of the list:  9\n"
     ]
    }
   ],
   "source": [
    "# Length of the list\n",
    "print(\"Length of the list: \", len(watches)) # Len function returns the size of the list"
   ]
  },
  {
   "cell_type": "code",
   "execution_count": 8,
   "id": "6718411f-f20c-4ebd-9862-27ed6251f1f3",
   "metadata": {
    "tags": []
   },
   "outputs": [
    {
     "name": "stdout",
     "output_type": "stream",
     "text": [
      "TAG Heuer\n",
      "Cartier\n",
      "Rado\n",
      "Longines\n",
      "Richard Mille\n",
      "Omega\n",
      "Garmin\n",
      "Fitbit\n",
      "Suunto\n"
     ]
    }
   ],
   "source": [
    "# Iterating through a list\n",
    "for watch in watches:\n",
    "    print(watch)"
   ]
  },
  {
   "cell_type": "markdown",
   "id": "99a6200c-f475-4f22-80cf-8a841e989e87",
   "metadata": {},
   "source": [
    "## Control Flow"
   ]
  },
  {
   "cell_type": "code",
   "execution_count": 9,
   "id": "93bac071-d5db-43c5-a289-31c1e9b09315",
   "metadata": {},
   "outputs": [
    {
     "name": "stdout",
     "output_type": "stream",
     "text": [
      "25\n"
     ]
    }
   ],
   "source": [
    "# Sequential statements\n",
    "x = 10\n",
    "y = 15\n",
    "z = x + y\n",
    "print(z)"
   ]
  },
  {
   "cell_type": "code",
   "execution_count": 10,
   "id": "9e0b486f-e976-41d8-8e39-3fec6ce9cce9",
   "metadata": {},
   "outputs": [
    {
     "name": "stdout",
     "output_type": "stream",
     "text": [
      "Can't vote\n"
     ]
    }
   ],
   "source": [
    "# Decision statements\n",
    "age = 15\n",
    "if age >= 18:\n",
    "    print(\"Can vote\")\n",
    "else:\n",
    "    print(\"Can't vote\")"
   ]
  },
  {
   "cell_type": "code",
   "execution_count": 11,
   "id": "a2d8ddfe-479f-417c-bd65-10186d4bc846",
   "metadata": {},
   "outputs": [
    {
     "name": "stdout",
     "output_type": "stream",
     "text": [
      "Overweight\n"
     ]
    }
   ],
   "source": [
    "bmi = 39.9\n",
    "if bmi <= 18.4:\n",
    "    print(\"Underweight\")\n",
    "elif bmi >= 18.5 and bmi <=24.9:\n",
    "    print(\"Normal\")\n",
    "elif bmi >= 25.0 and bmi <= 39.9:\n",
    "    print(\"Overweight\")\n",
    "else:\n",
    "    print(\"Obese\")"
   ]
  },
  {
   "cell_type": "code",
   "execution_count": 12,
   "id": "3f51660b-5f60-4aed-94b1-e3e7c9e71390",
   "metadata": {},
   "outputs": [
    {
     "name": "stdout",
     "output_type": "stream",
     "text": [
      "Thursday\n",
      "Sunday\n",
      "Invalid day\n"
     ]
    }
   ],
   "source": [
    "def weekday(n):\n",
    "   match n:\n",
    "      case 0: return \"Monday\"\n",
    "      case 1: return \"Tuesday\"\n",
    "      case 2: return \"Wednesday\"\n",
    "      case 3: return \"Thursday\"\n",
    "      case 4: return \"Friday\"\n",
    "      case 5: return \"Saturday\"\n",
    "      case 6: return \"Sunday\"\n",
    "      case _: return \"Invalid day\"\n",
    "print (weekday(3))\n",
    "print (weekday(6))\n",
    "print (weekday(7))"
   ]
  },
  {
   "cell_type": "code",
   "execution_count": 13,
   "id": "10cdded6-9206-4dfc-8f6a-fb9507b6b0b4",
   "metadata": {},
   "outputs": [
    {
     "name": "stdout",
     "output_type": "stream",
     "text": [
      "one\n",
      "two\n",
      "three\n",
      "four\n"
     ]
    }
   ],
   "source": [
    "# Reptition statements\n",
    "counts = [\"one\", \"two\", \"three\", \"four\"]\n",
    "\n",
    "for count in counts:\n",
    "    print(count)"
   ]
  },
  {
   "cell_type": "code",
   "execution_count": 14,
   "id": "33531856-9b76-4a03-92dc-ff8132934fd6",
   "metadata": {},
   "outputs": [
    {
     "name": "stdout",
     "output_type": "stream",
     "text": [
      "1\n",
      "2\n",
      "3\n",
      "4\n",
      "5\n"
     ]
    }
   ],
   "source": [
    "n = 1;\n",
    "\n",
    "while n <= 5:\n",
    "    print(n)\n",
    "    n += 1"
   ]
  },
  {
   "cell_type": "markdown",
   "id": "01feaee0-8291-4162-b3e9-f09f9164d1d8",
   "metadata": {},
   "source": [
    "## Numpy Arrays\n",
    "* A single variable can store multiple elements of the same data type.\n",
    "* Elements are stored in contiguous memory.\n",
    "* Easier to create a multi-dimensional array."
   ]
  },
  {
   "cell_type": "code",
   "execution_count": 15,
   "id": "1a620b55-5f48-44cf-bfd6-e82e3eedabd3",
   "metadata": {},
   "outputs": [
    {
     "name": "stdout",
     "output_type": "stream",
     "text": [
      "[1, 2, 3, 4, 5]\n",
      "[1 2 3 4 5]\n",
      "[ 6  7  8  9 10]\n"
     ]
    }
   ],
   "source": [
    "import numpy as np\n",
    "list = [1, 2, 3, 4, 5]\n",
    "print(list)\n",
    "\n",
    "# Turning a Python List into a Numpy Array\n",
    "print(np.array(list))\n",
    "\n",
    "# 1D Array\n",
    "array_list_1d = np.array([6, 7, 8, 9, 10])\n",
    "print(array_list_1d)"
   ]
  },
  {
   "cell_type": "code",
   "execution_count": 16,
   "id": "85f81bc5-f3fc-4dfb-99d8-24f2bbe9dd9a",
   "metadata": {},
   "outputs": [
    {
     "name": "stdout",
     "output_type": "stream",
     "text": [
      "[[2 4 6]\n",
      " [3 6 9]]\n"
     ]
    }
   ],
   "source": [
    "# 2D Array\n",
    "array_list_2d = np.array([(2, 4, 6), (3, 6, 9)])\n",
    "print(array_list_2d)"
   ]
  },
  {
   "cell_type": "code",
   "execution_count": 17,
   "id": "b8c67dcf-4955-4d93-a84d-1ffeeba6ef34",
   "metadata": {},
   "outputs": [
    {
     "name": "stdout",
     "output_type": "stream",
     "text": [
      "[[[10 20 30 40]]\n",
      "\n",
      " [[22 33 44 55]]\n",
      "\n",
      " [[35 45 55 65]]]\n"
     ]
    }
   ],
   "source": [
    "# 3D Array\n",
    "list_1 = [10, 20, 30, 40]\n",
    "list_2 = [22, 33, 44, 55]\n",
    "list_3 = [35, 45, 55, 65]\n",
    "\n",
    "array_list_3d = np.array([[list_1], [list_2], [list_3]])\n",
    "print(array_list_3d)"
   ]
  },
  {
   "cell_type": "code",
   "execution_count": 18,
   "id": "e45e38c4-f57f-44f7-96c3-6c8bc04665e3",
   "metadata": {},
   "outputs": [
    {
     "name": "stdout",
     "output_type": "stream",
     "text": [
      "(3, 1, 4)\n"
     ]
    }
   ],
   "source": [
    "# Shape\n",
    "print(array_list_3d.shape)"
   ]
  },
  {
   "cell_type": "code",
   "execution_count": 19,
   "id": "d290f5ef-8cd8-4c17-8bdc-6b6c92df26ff",
   "metadata": {},
   "outputs": [
    {
     "name": "stdout",
     "output_type": "stream",
     "text": [
      "int32\n"
     ]
    }
   ],
   "source": [
    "# Data type\n",
    "print(array_list_3d.dtype)"
   ]
  },
  {
   "cell_type": "code",
   "execution_count": 20,
   "id": "adf6c147-2e63-4abb-979a-71759576ff70",
   "metadata": {},
   "outputs": [
    {
     "name": "stdout",
     "output_type": "stream",
     "text": [
      "1\n",
      "2\n",
      "3\n"
     ]
    }
   ],
   "source": [
    "# Number of dimension\n",
    "print(array_list_1d.ndim)\n",
    "print(array_list_2d.ndim)\n",
    "print(array_list_3d.ndim)"
   ]
  },
  {
   "cell_type": "code",
   "execution_count": 21,
   "id": "c0a7fd7c-70e7-412b-9880-838b861c288c",
   "metadata": {},
   "outputs": [
    {
     "name": "stdout",
     "output_type": "stream",
     "text": [
      "5\n",
      "6\n",
      "12\n"
     ]
    }
   ],
   "source": [
    "# Size\n",
    "print(array_list_1d.size)\n",
    "print(array_list_2d.size)\n",
    "print(array_list_3d.size)"
   ]
  },
  {
   "cell_type": "markdown",
   "id": "82f5d3d7-82dd-4b60-b032-252d6765d6a2",
   "metadata": {},
   "source": [
    "## Matplotlib\n",
    "* Data visualization library.\n",
    "* Mainly for graph plotting.\n",
    "* Can work with Numpy Arrays and Pandas DataFrames."
   ]
  },
  {
   "cell_type": "code",
   "execution_count": 22,
   "id": "e78fbe80-8961-4aa9-9975-274343361c90",
   "metadata": {},
   "outputs": [
    {
     "data": {
      "image/png": "[encoded data removed]",
      "text/plain": [
       "<Figure size 640x480 with 1 Axes>"
      ]
     },
     "metadata": {},
     "output_type": "display_data"
    }
   ],
   "source": [
    "import matplotlib.pyplot as plt\n",
    "\n",
    "# Line plot\n",
    "plt.plot([1, 3, 7, 4, 10])\n",
    "plt.title(\"Line Plot\")\n",
    "plt.show()\n",
    "\n",
    "# No x-axis value is explicity given hence Matplotlib will assume it is the index: 0, 1, 2, 3, 4\n",
    "# The y-axis values will be the data points"
   ]
  },
  {
   "cell_type": "code",
   "execution_count": 23,
   "id": "16c5ca71-d524-4b2e-8eaa-cbedda7af0b9",
   "metadata": {},
   "outputs": [
    {
     "data": {
      "image/png": "[encoded data removed]",
      "text/plain": [
       "<Figure size 640x480 with 1 Axes>"
      ]
     },
     "metadata": {},
     "output_type": "display_data"
    }
   ],
   "source": [
    "plt.plot([1, 3, 7, 8, 10], [2, 5, 9, 12, 14])\n",
    "plt.title(\"Line Plot\")\n",
    "plt.show()"
   ]
  },
  {
   "cell_type": "code",
   "execution_count": 24,
   "id": "0f286a0f-30cc-4962-8150-06fbf2e76268",
   "metadata": {},
   "outputs": [
    {
     "data": {
      "image/png": "[encoded data removed]",
      "text/plain": [
       "<Figure size 640x480 with 1 Axes>"
      ]
     },
     "metadata": {},
     "output_type": "display_data"
    }
   ],
   "source": [
    "# Pie plot\n",
    "labels = \"Koh Shipping\", \"Cokaliong\", \"SeaCat\", \"Cebu Pacific\"\n",
    "colors = [\"Red\", \"Green\", \"Blue\", \"Yellow\"]\n",
    "sizes = [49, 87, 31, 25] # Number of passengers \n",
    "plt.pie(sizes, labels = labels, colors = colors)\n",
    "plt.axis(\"equal\")\n",
    "plt.title(\"Pie Plot\")\n",
    "plt.show()"
   ]
  },
  {
   "cell_type": "code",
   "execution_count": 25,
   "id": "4e6c5914-57fa-4813-90b0-57f2c14c689c",
   "metadata": {},
   "outputs": [
    {
     "data": {
      "image/png": "[encoded data removed]",
      "text/plain": [
       "<Figure size 640x480 with 1 Axes>"
      ]
     },
     "metadata": {},
     "output_type": "display_data"
    }
   ],
   "source": [
    "# Bar plot\n",
    "x_data = [\"A\", \"B\", \"C\", \"D\"] # Store\n",
    "y_data = [121, 84, 162, 97] # Items sold\n",
    "plt.bar(range(len(x_data)), y_data) # x-axis (0, 1, 2, 3), y-axis\n",
    "plt.title(\"Bar Plot\")\n",
    "plt.show()"
   ]
  },
  {
   "cell_type": "code",
   "execution_count": 26,
   "id": "3b6c3380-d153-4fef-90ff-a382648a477a",
   "metadata": {},
   "outputs": [
    {
     "data": {
      "image/png": "[encoded data removed]",
      "text/plain": [
       "<Figure size 640x480 with 1 Axes>"
      ]
     },
     "metadata": {},
     "output_type": "display_data"
    }
   ],
   "source": [
    "# Bar plot\n",
    "x_data = [\"A\", \"B\", \"C\", \"D\"] # Store\n",
    "y_data = [121, 84, 162, 97] # Items sold\n",
    "plt.bar(range(len(x_data)), y_data)\n",
    "# Make the tick labels appear\n",
    "plt.xticks(range(len(x_data)), x_data) # position (0, 1, 2, 3), the labels itself\n",
    "plt.title(\"Bar Plot\")\n",
    "plt.show()"
   ]
  },
  {
   "cell_type": "markdown",
   "id": "e69ea7ed-fca6-4aa0-8aa2-78201da45d2b",
   "metadata": {},
   "source": [
    "## Pandas Series and DataFrames\n",
    "* Used for working with data sets.\n",
    "* Analyze data and make conclusions based using statistics."
   ]
  },
  {
   "cell_type": "markdown",
   "id": "825433ad-164e-411f-9eb7-bd32762a2b14",
   "metadata": {},
   "source": [
    "### Pandas Series\n",
    "* Similar to a column in a table.\n",
    "* Similar to 1D array holding data of any type."
   ]
  },
  {
   "cell_type": "code",
   "execution_count": 27,
   "id": "52560aab-2e47-4a49-9ee6-a8baa5212ed2",
   "metadata": {},
   "outputs": [
    {
     "name": "stdout",
     "output_type": "stream",
     "text": [
      "0    1\n",
      "1    2\n",
      "2    3\n",
      "3    4\n",
      "4    5\n",
      "dtype: int64\n"
     ]
    }
   ],
   "source": [
    "import pandas as pd\n",
    "arr = [1, 2, 3, 4, 5]\n",
    "arr_series = pd.Series(arr)\n",
    "print(arr_series)"
   ]
  },
  {
   "cell_type": "code",
   "execution_count": 28,
   "id": "1aec469f-785b-49c3-a061-4aa61f5640b0",
   "metadata": {},
   "outputs": [
    {
     "name": "stdout",
     "output_type": "stream",
     "text": [
      "4\n"
     ]
    }
   ],
   "source": [
    "# Default label is the index\n",
    "print(arr_series[3])"
   ]
  },
  {
   "cell_type": "code",
   "execution_count": 29,
   "id": "f69d400c-ca6c-4ba8-85ce-ad738fd8f7a4",
   "metadata": {},
   "outputs": [
    {
     "name": "stdout",
     "output_type": "stream",
     "text": [
      "a    1\n",
      "b    2\n",
      "c    3\n",
      "d    4\n",
      "e    5\n",
      "dtype: int64\n"
     ]
    }
   ],
   "source": [
    "arr = [1, 2, 3, 4, 5]\n",
    "labels = [\"a\", \"b\", \"c\", \"d\", \"e\"]\n",
    "arr_series = pd.Series(arr, index = labels)\n",
    "print(arr_series)"
   ]
  },
  {
   "cell_type": "code",
   "execution_count": 30,
   "id": "7433e2fe-cb90-4684-a0a8-63d084170c2e",
   "metadata": {},
   "outputs": [
    {
     "name": "stdout",
     "output_type": "stream",
     "text": [
      "4\n"
     ]
    }
   ],
   "source": [
    "print(arr_series[\"d\"])"
   ]
  },
  {
   "cell_type": "code",
   "execution_count": 31,
   "id": "aee456e2-692b-41bf-aa79-a1054e6199b5",
   "metadata": {},
   "outputs": [
    {
     "name": "stdout",
     "output_type": "stream",
     "text": [
      "breakfast    390\n",
      "lunch        672\n",
      "dinner       239\n",
      "dtype: int64\n"
     ]
    }
   ],
   "source": [
    "# Key-value objects as series\n",
    "calories = {\"breakfast\": 390, \"lunch\": 672, \"dinner\": 239}\n",
    "myCalories = pd.Series(calories)\n",
    "print(myCalories)"
   ]
  },
  {
   "cell_type": "code",
   "execution_count": 32,
   "id": "f60d8005-df10-4272-828d-8f8f9c3586f3",
   "metadata": {},
   "outputs": [
    {
     "name": "stdout",
     "output_type": "stream",
     "text": [
      "lunch     672\n",
      "dinner    239\n",
      "dtype: int64\n"
     ]
    }
   ],
   "source": [
    "# Key-value objects as series\n",
    "calories = {\"breakfast\": 390, \"lunch\": 672, \"dinner\": 239}\n",
    "myCalories = pd.Series(calories, index = [\"lunch\", \"dinner\"])\n",
    "print(myCalories)"
   ]
  },
  {
   "cell_type": "markdown",
   "id": "6a6991d3-99e8-42fa-8021-797d917798fc",
   "metadata": {},
   "source": [
    "### DataFrames\n",
    "* Similar to a table with rows and multiple columns."
   ]
  },
  {
   "cell_type": "code",
   "execution_count": 33,
   "id": "3f68381b-312a-4e5d-be6f-b64972df28cf",
   "metadata": {},
   "outputs": [
    {
     "name": "stdout",
     "output_type": "stream",
     "text": [
      "      transport  duration  cost\n",
      "0  Koh Shipping        10  1800\n",
      "1     Cokaliong        12  1300\n",
      "2        SeaCat         6  1800\n",
      "3  Cebu Pacific         1  2500\n"
     ]
    }
   ],
   "source": [
    "travel = {\n",
    "    \"transport\": [\"Koh Shipping\", \"Cokaliong\", \"SeaCat\", \"Cebu Pacific\"],\n",
    "    \"duration\": [10, 12, 6, 1], # hours\n",
    "    \"cost\": [1800, 1300, 1800, 2500]\n",
    "}\n",
    "\n",
    "# Load data into a DataFrame object\n",
    "df = pd.DataFrame(travel)\n",
    "print(df)"
   ]
  },
  {
   "cell_type": "code",
   "execution_count": 34,
   "id": "c8ba361d-bb6b-42cd-a9f2-70d6e38879e5",
   "metadata": {},
   "outputs": [
    {
     "name": "stdout",
     "output_type": "stream",
     "text": [
      "transport    Cebu Pacific\n",
      "duration                1\n",
      "cost                 2500\n",
      "Name: 3, dtype: object\n"
     ]
    }
   ],
   "source": [
    "# Locate row\n",
    "print(df.loc[3])"
   ]
  },
  {
   "cell_type": "code",
   "execution_count": 35,
   "id": "1d28dfa8-b54f-4e2b-bdd5-b0d2d7832fae",
   "metadata": {},
   "outputs": [
    {
     "name": "stdout",
     "output_type": "stream",
     "text": [
      "      transport  duration  cost\n",
      "0  Koh Shipping        10  1800\n",
      "2        SeaCat         6  1800\n"
     ]
    }
   ],
   "source": [
    "# Locate specific rows\n",
    "print(df.loc[[0, 2]])"
   ]
  },
  {
   "cell_type": "code",
   "execution_count": 36,
   "id": "2918a5ad-8b79-4f68-924a-be910196a206",
   "metadata": {},
   "outputs": [
    {
     "name": "stdout",
     "output_type": "stream",
     "text": [
      "            transport  duration  cost\n",
      "option1  Koh Shipping        10  1800\n",
      "option2     Cokaliong        12  1300\n",
      "option3        SeaCat         6  1800\n",
      "option4  Cebu Pacific         1  2500\n"
     ]
    }
   ],
   "source": [
    "# Name the index or row\n",
    "\n",
    "travel = {\n",
    "    \"transport\": [\"Koh Shipping\", \"Cokaliong\", \"SeaCat\", \"Cebu Pacific\"],\n",
    "    \"duration\": [10, 12, 6, 1], # hours\n",
    "    \"cost\": [1800, 1300, 1800, 2500]\n",
    "}\n",
    "\n",
    "labels = [\"option1\", \"option2\", \"option3\", \"option4\"]\n",
    "\n",
    "# Load data into a DataFrame object\n",
    "df = pd.DataFrame(travel, index = labels)\n",
    "print(df)"
   ]
  },
  {
   "cell_type": "code",
   "execution_count": 37,
   "id": "e8a2b453-bfee-4f19-8a53-eb6d72d2515c",
   "metadata": {},
   "outputs": [
    {
     "name": "stdout",
     "output_type": "stream",
     "text": [
      "transport    Cebu Pacific\n",
      "duration                1\n",
      "cost                 2500\n",
      "Name: option4, dtype: object\n"
     ]
    }
   ],
   "source": [
    "print(df.loc[\"option4\"])"
   ]
  },
  {
   "cell_type": "code",
   "execution_count": 44,
   "id": "9e27d177-a105-413c-a9df-405705c5e859",
   "metadata": {},
   "outputs": [
    {
     "name": "stdout",
     "output_type": "stream",
     "text": [
      "2\n"
     ]
    }
   ],
   "source": [
    "# Name the column\n",
    "brand = [\"Xiaomi Poco X6 Pro\", \"Xiaomi Redmi Note 13 Pro\", \"Samsung Galaxy A35\"]\n",
    "refresh_rate = [120, 120, 120] # Hz\n",
    "camera = [64, 200, 50] # MP\n",
    "battery = [5000, 5100, 5000] # mAh\n",
    "\n",
    "np_array = np.array([brand, refresh_rate, camera, battery])\n",
    "print(np_array.ndim)"
   ]
  },
  {
   "cell_type": "code",
   "execution_count": 51,
   "id": "cdf552bb-9c25-4280-9590-62949be4bbd4",
   "metadata": {},
   "outputs": [
    {
     "name": "stdout",
     "output_type": "stream",
     "text": [
      "                        choice a                  choice b            choice c\n",
      "brand         Xiaomi Poco X6 Pro  Xiaomi Redmi Note 13 Pro  Samsung Galaxy A35\n",
      "refresh rate                 120                       120                 120\n",
      "camera                        64                       200                  50\n",
      "battery                     5000                      5100                5000\n"
     ]
    }
   ],
   "source": [
    "rownames = [\"brand\", \"refresh rate\", \"camera\", \"battery\"]\n",
    "colnames = [\"choice a\", \"choice b\", \"choice c\"] \n",
    "df = pd.DataFrame(np_array, index = rownames, columns = colnames)\n",
    "print(df)"
   ]
  },
  {
   "cell_type": "code",
   "execution_count": null,
   "id": "dbc38926-8f25-46ac-8197-991dc53c9195",
   "metadata": {},
   "outputs": [],
   "source": []
  }
 ],
 "metadata": {
  "kernelspec": {
   "display_name": "Python 3 (ipykernel)",
   "language": "python",
   "name": "python3"
  },
  "language_info": {
   "codemirror_mode": {
    "name": "ipython",
    "version": 3
   },
   "file_extension": ".py",
   "mimetype": "text/x-python",
   "name": "python",
   "nbconvert_exporter": "python",
   "pygments_lexer": "ipython3",
   "version": "3.11.8"
  }
 },
 "nbformat": 4,
 "nbformat_minor": 5
}
