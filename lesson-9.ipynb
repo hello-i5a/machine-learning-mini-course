{
 "cells": [
  {
   "cell_type": "markdown",
   "id": "99513352-5abd-4194-9ccd-3f6954c72960",
   "metadata": {},
   "source": [
    "# Lesson 9: Spot-Check Machine Learning Algorithms\n",
    "You cannot possibly know which algorithm will perform best on your data beforehand. \n",
    "\n",
    "You have to discover it using a process of trial and error or you can call this spot-checking algorithms. \n",
    "\n",
    "The scikit-learn library provides an interface to many machine learning algorithms and tools to compare the estimated accuracy of algorithms."
   ]
  },
  {
   "cell_type": "markdown",
   "id": "28d74819-2259-4366-a6e9-855d6fd87ade",
   "metadata": {},
   "source": [
    "# Spot-check linear algorithms on a dataset (e.g. linear regression, logistic regression and linear discriminate analysis)\n",
    "Linear algorithms refer to the time complexity of algorithms in computer science. They describe how the running time of an algorithm scales with the size of the input data. \n",
    "\n",
    "Linear algorithms have a time complexity that grows linearly with the size of the input."
   ]
  },
  {
   "cell_type": "markdown",
   "id": "7c217247-95e3-49b2-acff-a87819681b50",
   "metadata": {},
   "source": [
    "### Classification"
   ]
  },
  {
   "cell_type": "markdown",
   "id": "3ddf5c65-2f9e-460d-83f5-d1fd0dd66b23",
   "metadata": {},
   "source": [
    "### Regression"
   ]
  },
  {
   "cell_type": "code",
   "execution_count": null,
   "id": "16c8bb8d-247d-4ff8-ab22-eac3a71d0c89",
   "metadata": {},
   "outputs": [],
   "source": []
  }
 ],
 "metadata": {
  "kernelspec": {
   "display_name": "Python 3 (ipykernel)",
   "language": "python",
   "name": "python3"
  },
  "language_info": {
   "codemirror_mode": {
    "name": "ipython",
    "version": 3
   },
   "file_extension": ".py",
   "mimetype": "text/x-python",
   "name": "python",
   "nbconvert_exporter": "python",
   "pygments_lexer": "ipython3",
   "version": "3.11.8"
  }
 },
 "nbformat": 4,
 "nbformat_minor": 5
}
